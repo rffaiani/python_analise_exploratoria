{
  "nbformat": 4,
  "nbformat_minor": 0,
  "metadata": {
    "colab": {
      "name": "python_analise_exploratoria_1.ipynb",
      "provenance": [],
      "collapsed_sections": [],
      "authorship_tag": "ABX9TyMYnBxLmcVIn2g3WNKn2dTO"
    },
    "kernelspec": {
      "name": "python3",
      "display_name": "Python 3"
    }
  },
  "cells": [
    {
      "cell_type": "markdown",
      "metadata": {
        "id": "m7KhFlHaIPgA"
      },
      "source": [
        "**Análise Exploratória em Python:**\r\n",
        "\r\n",
        "-Abrindo um arquivo em csv.\r\n",
        "\r\n",
        "-Importando a biblioteca pandas\r\n",
        "\r\n",
        "-Fazendo consultas na base de dados (análise exploratória)\r\n",
        "\r\n",
        "-Usando as funções da biblioteca pandas"
      ]
    },
    {
      "cell_type": "code",
      "metadata": {
        "id": "gMs_tNZ8IQHi"
      },
      "source": [
        "#importando o arquivo \"livros.csv\" - utilizando o ícone <> snippets de código - buscar upload - pegar o código e selecionar arquivo."
      ],
      "execution_count": null,
      "outputs": []
    },
    {
      "cell_type": "code",
      "metadata": {
        "colab": {
          "resources": {
            "http://localhost:8080/nbextensions/google.colab/files.js": {
              "data": "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",
              "ok": true,
              "headers": [
                [
                  "content-type",
                  "application/javascript"
                ]
              ],
              "status": 200,
              "status_text": ""
            }
          },
          "base_uri": "https://localhost:8080/",
          "height": 91
        },
        "id": "a4JvXLurJILj",
        "outputId": "34a0e27e-6b50-4026-c6c8-61bc0fc8720a"
      },
      "source": [
        "from google.colab import files\n",
        "\n",
        "uploaded = files.upload()\n",
        "\n",
        "for fn in uploaded.keys():\n",
        "  print('User uploaded file \"{name}\" with length {length} bytes'.format(\n",
        "      name=fn, length=len(uploaded[fn])))"
      ],
      "execution_count": 1,
      "outputs": [
        {
          "output_type": "display_data",
          "data": {
            "text/html": [
              "\n",
              "     <input type=\"file\" id=\"files-3aade4b0-6d57-4dae-8174-f419cf3e411c\" name=\"files[]\" multiple disabled\n",
              "        style=\"border:none\" />\n",
              "     <output id=\"result-3aade4b0-6d57-4dae-8174-f419cf3e411c\">\n",
              "      Upload widget is only available when the cell has been executed in the\n",
              "      current browser session. Please rerun this cell to enable.\n",
              "      </output>\n",
              "      <script src=\"/nbextensions/google.colab/files.js\"></script> "
            ],
            "text/plain": [
              "<IPython.core.display.HTML object>"
            ]
          },
          "metadata": {
            "tags": []
          }
        },
        {
          "output_type": "stream",
          "text": [
            "Saving livros.csv to livros.csv\n",
            "User uploaded file \"livros.csv\" with length 18352 bytes\n"
          ],
          "name": "stdout"
        }
      ]
    },
    {
      "cell_type": "code",
      "metadata": {
        "id": "P9ofu624JNgN"
      },
      "source": [
        "import pandas as pd"
      ],
      "execution_count": 2,
      "outputs": []
    },
    {
      "cell_type": "code",
      "metadata": {
        "id": "VgmJR6DHJg7A"
      },
      "source": [
        "caminho_livro = \"livros.csv\""
      ],
      "execution_count": 3,
      "outputs": []
    },
    {
      "cell_type": "code",
      "metadata": {
        "colab": {
          "base_uri": "https://localhost:8080/",
          "height": 406
        },
        "id": "XxNVtmbTJrXQ",
        "outputId": "ba5c35a3-7bd7-4bb7-b135-6a77c3806b7c"
      },
      "source": [
        "df_livros = pd.read_csv(caminho_livro)\r\n",
        "df_livros"
      ],
      "execution_count": 4,
      "outputs": [
        {
          "output_type": "execute_result",
          "data": {
            "text/html": [
              "<div>\n",
              "<style scoped>\n",
              "    .dataframe tbody tr th:only-of-type {\n",
              "        vertical-align: middle;\n",
              "    }\n",
              "\n",
              "    .dataframe tbody tr th {\n",
              "        vertical-align: top;\n",
              "    }\n",
              "\n",
              "    .dataframe thead th {\n",
              "        text-align: right;\n",
              "    }\n",
              "</style>\n",
              "<table border=\"1\" class=\"dataframe\">\n",
              "  <thead>\n",
              "    <tr style=\"text-align: right;\">\n",
              "      <th></th>\n",
              "      <th>Reviews</th>\n",
              "      <th>Book_title</th>\n",
              "      <th>Number_Of_Pages</th>\n",
              "      <th>Price</th>\n",
              "    </tr>\n",
              "  </thead>\n",
              "  <tbody>\n",
              "    <tr>\n",
              "      <th>0</th>\n",
              "      <td>3829</td>\n",
              "      <td>The Elements of Style</td>\n",
              "      <td>105</td>\n",
              "      <td>9.323529</td>\n",
              "    </tr>\n",
              "    <tr>\n",
              "      <th>1</th>\n",
              "      <td>1406</td>\n",
              "      <td>The Information: A History, a Theory, a Flood</td>\n",
              "      <td>527</td>\n",
              "      <td>11.000000</td>\n",
              "    </tr>\n",
              "    <tr>\n",
              "      <th>2</th>\n",
              "      <td>0</td>\n",
              "      <td>Responsive Web Design Overview For Beginners</td>\n",
              "      <td>50</td>\n",
              "      <td>11.267647</td>\n",
              "    </tr>\n",
              "    <tr>\n",
              "      <th>3</th>\n",
              "      <td>1658</td>\n",
              "      <td>Ghost in the Wires: My Adventures as the World...</td>\n",
              "      <td>393</td>\n",
              "      <td>12.873529</td>\n",
              "    </tr>\n",
              "    <tr>\n",
              "      <th>4</th>\n",
              "      <td>1325</td>\n",
              "      <td>How Google Works</td>\n",
              "      <td>305</td>\n",
              "      <td>13.164706</td>\n",
              "    </tr>\n",
              "    <tr>\n",
              "      <th>...</th>\n",
              "      <td>...</td>\n",
              "      <td>...</td>\n",
              "      <td>...</td>\n",
              "      <td>...</td>\n",
              "    </tr>\n",
              "    <tr>\n",
              "      <th>266</th>\n",
              "      <td>0</td>\n",
              "      <td>3D Game Engine Architecture: Engineering Real-...</td>\n",
              "      <td>752</td>\n",
              "      <td>203.108823</td>\n",
              "    </tr>\n",
              "    <tr>\n",
              "      <th>267</th>\n",
              "      <td>22</td>\n",
              "      <td>An Introduction to Database Systems</td>\n",
              "      <td>1040</td>\n",
              "      <td>212.097059</td>\n",
              "    </tr>\n",
              "    <tr>\n",
              "      <th>268</th>\n",
              "      <td>36</td>\n",
              "      <td>The Art of Computer Programming, Volumes 1-3 B...</td>\n",
              "      <td>896</td>\n",
              "      <td>220.385294</td>\n",
              "    </tr>\n",
              "    <tr>\n",
              "      <th>269</th>\n",
              "      <td>4</td>\n",
              "      <td>The Art of Computer Programming, Volumes 1-4a ...</td>\n",
              "      <td>3168</td>\n",
              "      <td>220.385294</td>\n",
              "    </tr>\n",
              "    <tr>\n",
              "      <th>270</th>\n",
              "      <td>5</td>\n",
              "      <td>A Discipline for Software Engineering</td>\n",
              "      <td>789</td>\n",
              "      <td>235.650000</td>\n",
              "    </tr>\n",
              "  </tbody>\n",
              "</table>\n",
              "<p>271 rows × 4 columns</p>\n",
              "</div>"
            ],
            "text/plain": [
              "     Reviews  ...       Price\n",
              "0       3829  ...    9.323529\n",
              "1       1406  ...   11.000000\n",
              "2          0  ...   11.267647\n",
              "3       1658  ...   12.873529\n",
              "4       1325  ...   13.164706\n",
              "..       ...  ...         ...\n",
              "266        0  ...  203.108823\n",
              "267       22  ...  212.097059\n",
              "268       36  ...  220.385294\n",
              "269        4  ...  220.385294\n",
              "270        5  ...  235.650000\n",
              "\n",
              "[271 rows x 4 columns]"
            ]
          },
          "metadata": {
            "tags": []
          },
          "execution_count": 4
        }
      ]
    },
    {
      "cell_type": "code",
      "metadata": {
        "colab": {
          "base_uri": "https://localhost:8080/",
          "height": 347
        },
        "id": "zOOmtEYEJ2EQ",
        "outputId": "cb684a71-bf63-47c4-9028-fed8da2aa057"
      },
      "source": [
        "df_livros[0:10] #pegar os 10 primeiros da lista"
      ],
      "execution_count": 9,
      "outputs": [
        {
          "output_type": "execute_result",
          "data": {
            "text/html": [
              "<div>\n",
              "<style scoped>\n",
              "    .dataframe tbody tr th:only-of-type {\n",
              "        vertical-align: middle;\n",
              "    }\n",
              "\n",
              "    .dataframe tbody tr th {\n",
              "        vertical-align: top;\n",
              "    }\n",
              "\n",
              "    .dataframe thead th {\n",
              "        text-align: right;\n",
              "    }\n",
              "</style>\n",
              "<table border=\"1\" class=\"dataframe\">\n",
              "  <thead>\n",
              "    <tr style=\"text-align: right;\">\n",
              "      <th></th>\n",
              "      <th>Reviews</th>\n",
              "      <th>Book_title</th>\n",
              "      <th>Number_Of_Pages</th>\n",
              "      <th>Price</th>\n",
              "    </tr>\n",
              "  </thead>\n",
              "  <tbody>\n",
              "    <tr>\n",
              "      <th>0</th>\n",
              "      <td>3829</td>\n",
              "      <td>The Elements of Style</td>\n",
              "      <td>105</td>\n",
              "      <td>9.323529</td>\n",
              "    </tr>\n",
              "    <tr>\n",
              "      <th>1</th>\n",
              "      <td>1406</td>\n",
              "      <td>The Information: A History, a Theory, a Flood</td>\n",
              "      <td>527</td>\n",
              "      <td>11.000000</td>\n",
              "    </tr>\n",
              "    <tr>\n",
              "      <th>2</th>\n",
              "      <td>0</td>\n",
              "      <td>Responsive Web Design Overview For Beginners</td>\n",
              "      <td>50</td>\n",
              "      <td>11.267647</td>\n",
              "    </tr>\n",
              "    <tr>\n",
              "      <th>3</th>\n",
              "      <td>1658</td>\n",
              "      <td>Ghost in the Wires: My Adventures as the World...</td>\n",
              "      <td>393</td>\n",
              "      <td>12.873529</td>\n",
              "    </tr>\n",
              "    <tr>\n",
              "      <th>4</th>\n",
              "      <td>1325</td>\n",
              "      <td>How Google Works</td>\n",
              "      <td>305</td>\n",
              "      <td>13.164706</td>\n",
              "    </tr>\n",
              "    <tr>\n",
              "      <th>5</th>\n",
              "      <td>117</td>\n",
              "      <td>The Meme Machine</td>\n",
              "      <td>288</td>\n",
              "      <td>14.188235</td>\n",
              "    </tr>\n",
              "    <tr>\n",
              "      <th>6</th>\n",
              "      <td>5938</td>\n",
              "      <td>Start with Why: How Great Leaders Inspire Ever...</td>\n",
              "      <td>256</td>\n",
              "      <td>14.232353</td>\n",
              "    </tr>\n",
              "    <tr>\n",
              "      <th>7</th>\n",
              "      <td>1817</td>\n",
              "      <td>Algorithms to Live By: The Computer Science of...</td>\n",
              "      <td>368</td>\n",
              "      <td>14.364706</td>\n",
              "    </tr>\n",
              "    <tr>\n",
              "      <th>8</th>\n",
              "      <td>2093</td>\n",
              "      <td>Weapons of Math Destruction: How Big Data Incr...</td>\n",
              "      <td>259</td>\n",
              "      <td>14.502941</td>\n",
              "    </tr>\n",
              "    <tr>\n",
              "      <th>9</th>\n",
              "      <td>0</td>\n",
              "      <td>ZX Spectrum Games Code Club: Twenty fun games ...</td>\n",
              "      <td>128</td>\n",
              "      <td>14.641176</td>\n",
              "    </tr>\n",
              "  </tbody>\n",
              "</table>\n",
              "</div>"
            ],
            "text/plain": [
              "   Reviews  ...      Price\n",
              "0     3829  ...   9.323529\n",
              "1     1406  ...  11.000000\n",
              "2        0  ...  11.267647\n",
              "3     1658  ...  12.873529\n",
              "4     1325  ...  13.164706\n",
              "5      117  ...  14.188235\n",
              "6     5938  ...  14.232353\n",
              "7     1817  ...  14.364706\n",
              "8     2093  ...  14.502941\n",
              "9        0  ...  14.641176\n",
              "\n",
              "[10 rows x 4 columns]"
            ]
          },
          "metadata": {
            "tags": []
          },
          "execution_count": 9
        }
      ]
    },
    {
      "cell_type": "code",
      "metadata": {
        "colab": {
          "base_uri": "https://localhost:8080/",
          "height": 197
        },
        "id": "Xs3rT5r1KDeF",
        "outputId": "2282c853-e391-49b6-e8bc-4629abad9d85"
      },
      "source": [
        "df_livros.head() #o head() puxa os 5 primeiros da lista"
      ],
      "execution_count": 7,
      "outputs": [
        {
          "output_type": "execute_result",
          "data": {
            "text/html": [
              "<div>\n",
              "<style scoped>\n",
              "    .dataframe tbody tr th:only-of-type {\n",
              "        vertical-align: middle;\n",
              "    }\n",
              "\n",
              "    .dataframe tbody tr th {\n",
              "        vertical-align: top;\n",
              "    }\n",
              "\n",
              "    .dataframe thead th {\n",
              "        text-align: right;\n",
              "    }\n",
              "</style>\n",
              "<table border=\"1\" class=\"dataframe\">\n",
              "  <thead>\n",
              "    <tr style=\"text-align: right;\">\n",
              "      <th></th>\n",
              "      <th>Reviews</th>\n",
              "      <th>Book_title</th>\n",
              "      <th>Number_Of_Pages</th>\n",
              "      <th>Price</th>\n",
              "    </tr>\n",
              "  </thead>\n",
              "  <tbody>\n",
              "    <tr>\n",
              "      <th>0</th>\n",
              "      <td>3829</td>\n",
              "      <td>The Elements of Style</td>\n",
              "      <td>105</td>\n",
              "      <td>9.323529</td>\n",
              "    </tr>\n",
              "    <tr>\n",
              "      <th>1</th>\n",
              "      <td>1406</td>\n",
              "      <td>The Information: A History, a Theory, a Flood</td>\n",
              "      <td>527</td>\n",
              "      <td>11.000000</td>\n",
              "    </tr>\n",
              "    <tr>\n",
              "      <th>2</th>\n",
              "      <td>0</td>\n",
              "      <td>Responsive Web Design Overview For Beginners</td>\n",
              "      <td>50</td>\n",
              "      <td>11.267647</td>\n",
              "    </tr>\n",
              "    <tr>\n",
              "      <th>3</th>\n",
              "      <td>1658</td>\n",
              "      <td>Ghost in the Wires: My Adventures as the World...</td>\n",
              "      <td>393</td>\n",
              "      <td>12.873529</td>\n",
              "    </tr>\n",
              "    <tr>\n",
              "      <th>4</th>\n",
              "      <td>1325</td>\n",
              "      <td>How Google Works</td>\n",
              "      <td>305</td>\n",
              "      <td>13.164706</td>\n",
              "    </tr>\n",
              "  </tbody>\n",
              "</table>\n",
              "</div>"
            ],
            "text/plain": [
              "   Reviews  ...      Price\n",
              "0     3829  ...   9.323529\n",
              "1     1406  ...  11.000000\n",
              "2        0  ...  11.267647\n",
              "3     1658  ...  12.873529\n",
              "4     1325  ...  13.164706\n",
              "\n",
              "[5 rows x 4 columns]"
            ]
          },
          "metadata": {
            "tags": []
          },
          "execution_count": 7
        }
      ]
    },
    {
      "cell_type": "code",
      "metadata": {
        "colab": {
          "base_uri": "https://localhost:8080/",
          "height": 497
        },
        "id": "451QI5SWKNny",
        "outputId": "9d1436d0-a3ae-4f48-a5e9-aeabedb06284"
      },
      "source": [
        "df_livros.head(15) #puxando os top 15 - perceba que neste caso não precisei fazer [0:15]"
      ],
      "execution_count": 10,
      "outputs": [
        {
          "output_type": "execute_result",
          "data": {
            "text/html": [
              "<div>\n",
              "<style scoped>\n",
              "    .dataframe tbody tr th:only-of-type {\n",
              "        vertical-align: middle;\n",
              "    }\n",
              "\n",
              "    .dataframe tbody tr th {\n",
              "        vertical-align: top;\n",
              "    }\n",
              "\n",
              "    .dataframe thead th {\n",
              "        text-align: right;\n",
              "    }\n",
              "</style>\n",
              "<table border=\"1\" class=\"dataframe\">\n",
              "  <thead>\n",
              "    <tr style=\"text-align: right;\">\n",
              "      <th></th>\n",
              "      <th>Reviews</th>\n",
              "      <th>Book_title</th>\n",
              "      <th>Number_Of_Pages</th>\n",
              "      <th>Price</th>\n",
              "    </tr>\n",
              "  </thead>\n",
              "  <tbody>\n",
              "    <tr>\n",
              "      <th>0</th>\n",
              "      <td>3829</td>\n",
              "      <td>The Elements of Style</td>\n",
              "      <td>105</td>\n",
              "      <td>9.323529</td>\n",
              "    </tr>\n",
              "    <tr>\n",
              "      <th>1</th>\n",
              "      <td>1406</td>\n",
              "      <td>The Information: A History, a Theory, a Flood</td>\n",
              "      <td>527</td>\n",
              "      <td>11.000000</td>\n",
              "    </tr>\n",
              "    <tr>\n",
              "      <th>2</th>\n",
              "      <td>0</td>\n",
              "      <td>Responsive Web Design Overview For Beginners</td>\n",
              "      <td>50</td>\n",
              "      <td>11.267647</td>\n",
              "    </tr>\n",
              "    <tr>\n",
              "      <th>3</th>\n",
              "      <td>1658</td>\n",
              "      <td>Ghost in the Wires: My Adventures as the World...</td>\n",
              "      <td>393</td>\n",
              "      <td>12.873529</td>\n",
              "    </tr>\n",
              "    <tr>\n",
              "      <th>4</th>\n",
              "      <td>1325</td>\n",
              "      <td>How Google Works</td>\n",
              "      <td>305</td>\n",
              "      <td>13.164706</td>\n",
              "    </tr>\n",
              "    <tr>\n",
              "      <th>5</th>\n",
              "      <td>117</td>\n",
              "      <td>The Meme Machine</td>\n",
              "      <td>288</td>\n",
              "      <td>14.188235</td>\n",
              "    </tr>\n",
              "    <tr>\n",
              "      <th>6</th>\n",
              "      <td>5938</td>\n",
              "      <td>Start with Why: How Great Leaders Inspire Ever...</td>\n",
              "      <td>256</td>\n",
              "      <td>14.232353</td>\n",
              "    </tr>\n",
              "    <tr>\n",
              "      <th>7</th>\n",
              "      <td>1817</td>\n",
              "      <td>Algorithms to Live By: The Computer Science of...</td>\n",
              "      <td>368</td>\n",
              "      <td>14.364706</td>\n",
              "    </tr>\n",
              "    <tr>\n",
              "      <th>8</th>\n",
              "      <td>2093</td>\n",
              "      <td>Weapons of Math Destruction: How Big Data Incr...</td>\n",
              "      <td>259</td>\n",
              "      <td>14.502941</td>\n",
              "    </tr>\n",
              "    <tr>\n",
              "      <th>9</th>\n",
              "      <td>0</td>\n",
              "      <td>ZX Spectrum Games Code Club: Twenty fun games ...</td>\n",
              "      <td>128</td>\n",
              "      <td>14.641176</td>\n",
              "    </tr>\n",
              "    <tr>\n",
              "      <th>10</th>\n",
              "      <td>160</td>\n",
              "      <td>Sync: The Emerging Science of Spontaneous Order</td>\n",
              "      <td>352</td>\n",
              "      <td>15.229412</td>\n",
              "    </tr>\n",
              "    <tr>\n",
              "      <th>11</th>\n",
              "      <td>481</td>\n",
              "      <td>The Master Algorithm: How the Quest for the Ul...</td>\n",
              "      <td>352</td>\n",
              "      <td>15.229412</td>\n",
              "    </tr>\n",
              "    <tr>\n",
              "      <th>12</th>\n",
              "      <td>33</td>\n",
              "      <td>Ship It!</td>\n",
              "      <td>200</td>\n",
              "      <td>15.326471</td>\n",
              "    </tr>\n",
              "    <tr>\n",
              "      <th>13</th>\n",
              "      <td>1255</td>\n",
              "      <td>Superintelligence: Paths, Dangers, Strategies</td>\n",
              "      <td>328</td>\n",
              "      <td>15.682353</td>\n",
              "    </tr>\n",
              "    <tr>\n",
              "      <th>14</th>\n",
              "      <td>593</td>\n",
              "      <td>The Art of the Start: The Time-Tested, Battle-...</td>\n",
              "      <td>240</td>\n",
              "      <td>15.885294</td>\n",
              "    </tr>\n",
              "  </tbody>\n",
              "</table>\n",
              "</div>"
            ],
            "text/plain": [
              "    Reviews  ...      Price\n",
              "0      3829  ...   9.323529\n",
              "1      1406  ...  11.000000\n",
              "2         0  ...  11.267647\n",
              "3      1658  ...  12.873529\n",
              "4      1325  ...  13.164706\n",
              "5       117  ...  14.188235\n",
              "6      5938  ...  14.232353\n",
              "7      1817  ...  14.364706\n",
              "8      2093  ...  14.502941\n",
              "9         0  ...  14.641176\n",
              "10      160  ...  15.229412\n",
              "11      481  ...  15.229412\n",
              "12       33  ...  15.326471\n",
              "13     1255  ...  15.682353\n",
              "14      593  ...  15.885294\n",
              "\n",
              "[15 rows x 4 columns]"
            ]
          },
          "metadata": {
            "tags": []
          },
          "execution_count": 10
        }
      ]
    },
    {
      "cell_type": "code",
      "metadata": {
        "colab": {
          "base_uri": "https://localhost:8080/",
          "height": 197
        },
        "id": "DK3OxxI-Kh7L",
        "outputId": "217abe7a-1248-4acf-ad41-2985a95e3414"
      },
      "source": [
        "df_livros.tail() #pega as 5 últimas ocorrências do arquivo"
      ],
      "execution_count": 11,
      "outputs": [
        {
          "output_type": "execute_result",
          "data": {
            "text/html": [
              "<div>\n",
              "<style scoped>\n",
              "    .dataframe tbody tr th:only-of-type {\n",
              "        vertical-align: middle;\n",
              "    }\n",
              "\n",
              "    .dataframe tbody tr th {\n",
              "        vertical-align: top;\n",
              "    }\n",
              "\n",
              "    .dataframe thead th {\n",
              "        text-align: right;\n",
              "    }\n",
              "</style>\n",
              "<table border=\"1\" class=\"dataframe\">\n",
              "  <thead>\n",
              "    <tr style=\"text-align: right;\">\n",
              "      <th></th>\n",
              "      <th>Reviews</th>\n",
              "      <th>Book_title</th>\n",
              "      <th>Number_Of_Pages</th>\n",
              "      <th>Price</th>\n",
              "    </tr>\n",
              "  </thead>\n",
              "  <tbody>\n",
              "    <tr>\n",
              "      <th>266</th>\n",
              "      <td>0</td>\n",
              "      <td>3D Game Engine Architecture: Engineering Real-...</td>\n",
              "      <td>752</td>\n",
              "      <td>203.108823</td>\n",
              "    </tr>\n",
              "    <tr>\n",
              "      <th>267</th>\n",
              "      <td>22</td>\n",
              "      <td>An Introduction to Database Systems</td>\n",
              "      <td>1040</td>\n",
              "      <td>212.097059</td>\n",
              "    </tr>\n",
              "    <tr>\n",
              "      <th>268</th>\n",
              "      <td>36</td>\n",
              "      <td>The Art of Computer Programming, Volumes 1-3 B...</td>\n",
              "      <td>896</td>\n",
              "      <td>220.385294</td>\n",
              "    </tr>\n",
              "    <tr>\n",
              "      <th>269</th>\n",
              "      <td>4</td>\n",
              "      <td>The Art of Computer Programming, Volumes 1-4a ...</td>\n",
              "      <td>3168</td>\n",
              "      <td>220.385294</td>\n",
              "    </tr>\n",
              "    <tr>\n",
              "      <th>270</th>\n",
              "      <td>5</td>\n",
              "      <td>A Discipline for Software Engineering</td>\n",
              "      <td>789</td>\n",
              "      <td>235.650000</td>\n",
              "    </tr>\n",
              "  </tbody>\n",
              "</table>\n",
              "</div>"
            ],
            "text/plain": [
              "     Reviews  ...       Price\n",
              "266        0  ...  203.108823\n",
              "267       22  ...  212.097059\n",
              "268       36  ...  220.385294\n",
              "269        4  ...  220.385294\n",
              "270        5  ...  235.650000\n",
              "\n",
              "[5 rows x 4 columns]"
            ]
          },
          "metadata": {
            "tags": []
          },
          "execution_count": 11
        }
      ]
    },
    {
      "cell_type": "code",
      "metadata": {
        "colab": {
          "base_uri": "https://localhost:8080/"
        },
        "id": "VNC49iPTKukM",
        "outputId": "f9ebad79-e66e-4b4e-d26d-b7c03b9ac431"
      },
      "source": [
        "#shape\r\n",
        "\r\n",
        "#note que no exemplo acima vai até o 270, mas como conta ao zero temos um total de 71 linhas e se observar 4 colunas.\r\n",
        "#para ver isso na prtática usar o shape.\r\n",
        "\r\n",
        "df_livros.shape"
      ],
      "execution_count": 13,
      "outputs": [
        {
          "output_type": "execute_result",
          "data": {
            "text/plain": [
              "(271, 4)"
            ]
          },
          "metadata": {
            "tags": []
          },
          "execution_count": 13
        }
      ]
    },
    {
      "cell_type": "code",
      "metadata": {
        "colab": {
          "base_uri": "https://localhost:8080/"
        },
        "id": "7cX_MhF5LHeH",
        "outputId": "ac30063e-5bbb-41cd-ba12-2e66e999bb43"
      },
      "source": [
        "#retorna o nome das colunas\r\n",
        "\r\n",
        "df_livros.columns"
      ],
      "execution_count": 14,
      "outputs": [
        {
          "output_type": "execute_result",
          "data": {
            "text/plain": [
              "Index(['Reviews', 'Book_title', 'Number_Of_Pages', 'Price'], dtype='object')"
            ]
          },
          "metadata": {
            "tags": []
          },
          "execution_count": 14
        }
      ]
    },
    {
      "cell_type": "code",
      "metadata": {
        "colab": {
          "base_uri": "https://localhost:8080/"
        },
        "id": "XdsFkx7_L0Zy",
        "outputId": "df8daaac-2cd6-4a1e-ce6d-68407f70b0d7"
      },
      "source": [
        "#retorna a coluna Book_title\r\n",
        "df_livros[\"Book_title\"]"
      ],
      "execution_count": 15,
      "outputs": [
        {
          "output_type": "execute_result",
          "data": {
            "text/plain": [
              "0                                  The Elements of Style\n",
              "1          The Information: A History, a Theory, a Flood\n",
              "2           Responsive Web Design Overview For Beginners\n",
              "3      Ghost in the Wires: My Adventures as the World...\n",
              "4                                       How Google Works\n",
              "                             ...                        \n",
              "266    3D Game Engine Architecture: Engineering Real-...\n",
              "267                  An Introduction to Database Systems\n",
              "268    The Art of Computer Programming, Volumes 1-3 B...\n",
              "269    The Art of Computer Programming, Volumes 1-4a ...\n",
              "270                A Discipline for Software Engineering\n",
              "Name: Book_title, Length: 271, dtype: object"
            ]
          },
          "metadata": {
            "tags": []
          },
          "execution_count": 15
        }
      ]
    },
    {
      "cell_type": "code",
      "metadata": {
        "colab": {
          "base_uri": "https://localhost:8080/"
        },
        "id": "gE_zaUujMAhX",
        "outputId": "085e9fcf-889c-4d75-aec1-89f8bbe1d123"
      },
      "source": [
        "#head()\r\n",
        "\r\n",
        "#retorna os 10 primeiros da coluna Book_title\r\n",
        "\r\n",
        "df_livros[\"Book_title\"].head(10)"
      ],
      "execution_count": 16,
      "outputs": [
        {
          "output_type": "execute_result",
          "data": {
            "text/plain": [
              "0                                The Elements of Style\n",
              "1        The Information: A History, a Theory, a Flood\n",
              "2         Responsive Web Design Overview For Beginners\n",
              "3    Ghost in the Wires: My Adventures as the World...\n",
              "4                                     How Google Works\n",
              "5                                     The Meme Machine\n",
              "6    Start with Why: How Great Leaders Inspire Ever...\n",
              "7    Algorithms to Live By: The Computer Science of...\n",
              "8    Weapons of Math Destruction: How Big Data Incr...\n",
              "9    ZX Spectrum Games Code Club: Twenty fun games ...\n",
              "Name: Book_title, dtype: object"
            ]
          },
          "metadata": {
            "tags": []
          },
          "execution_count": 16
        }
      ]
    },
    {
      "cell_type": "code",
      "metadata": {
        "colab": {
          "base_uri": "https://localhost:8080/"
        },
        "id": "jy7EhqpEMUes",
        "outputId": "a204637f-0a7c-494b-fd63-cb4ed4b97261"
      },
      "source": [
        "#tail()\r\n",
        "\r\n",
        "#retorna os 5 últimos da coluna Prices\r\n",
        "\r\n",
        "df_livros[\"Price\"].tail(5)"
      ],
      "execution_count": 17,
      "outputs": [
        {
          "output_type": "execute_result",
          "data": {
            "text/plain": [
              "266    203.108823\n",
              "267    212.097059\n",
              "268    220.385294\n",
              "269    220.385294\n",
              "270    235.650000\n",
              "Name: Price, dtype: float64"
            ]
          },
          "metadata": {
            "tags": []
          },
          "execution_count": 17
        }
      ]
    },
    {
      "cell_type": "code",
      "metadata": {
        "colab": {
          "base_uri": "https://localhost:8080/",
          "height": 287
        },
        "id": "Ngx99QBiMo1L",
        "outputId": "72b76d87-1698-4d41-d91c-b7ca183b910a"
      },
      "source": [
        "#describe()\r\n",
        "\r\n",
        "#retorna vários dados da base de dados - describe()\r\n",
        "\r\n",
        "df_livros.describe()"
      ],
      "execution_count": 18,
      "outputs": [
        {
          "output_type": "execute_result",
          "data": {
            "text/html": [
              "<div>\n",
              "<style scoped>\n",
              "    .dataframe tbody tr th:only-of-type {\n",
              "        vertical-align: middle;\n",
              "    }\n",
              "\n",
              "    .dataframe tbody tr th {\n",
              "        vertical-align: top;\n",
              "    }\n",
              "\n",
              "    .dataframe thead th {\n",
              "        text-align: right;\n",
              "    }\n",
              "</style>\n",
              "<table border=\"1\" class=\"dataframe\">\n",
              "  <thead>\n",
              "    <tr style=\"text-align: right;\">\n",
              "      <th></th>\n",
              "      <th>Reviews</th>\n",
              "      <th>Number_Of_Pages</th>\n",
              "      <th>Price</th>\n",
              "    </tr>\n",
              "  </thead>\n",
              "  <tbody>\n",
              "    <tr>\n",
              "      <th>count</th>\n",
              "      <td>271.000000</td>\n",
              "      <td>271.000000</td>\n",
              "      <td>271.000000</td>\n",
              "    </tr>\n",
              "    <tr>\n",
              "      <th>mean</th>\n",
              "      <td>185.557196</td>\n",
              "      <td>475.077491</td>\n",
              "      <td>54.541860</td>\n",
              "    </tr>\n",
              "    <tr>\n",
              "      <th>std</th>\n",
              "      <td>552.122252</td>\n",
              "      <td>306.147492</td>\n",
              "      <td>35.711485</td>\n",
              "    </tr>\n",
              "    <tr>\n",
              "      <th>min</th>\n",
              "      <td>0.000000</td>\n",
              "      <td>50.000000</td>\n",
              "      <td>9.323529</td>\n",
              "    </tr>\n",
              "    <tr>\n",
              "      <th>25%</th>\n",
              "      <td>5.500000</td>\n",
              "      <td>289.000000</td>\n",
              "      <td>30.751471</td>\n",
              "    </tr>\n",
              "    <tr>\n",
              "      <th>50%</th>\n",
              "      <td>35.000000</td>\n",
              "      <td>384.000000</td>\n",
              "      <td>46.317647</td>\n",
              "    </tr>\n",
              "    <tr>\n",
              "      <th>75%</th>\n",
              "      <td>116.500000</td>\n",
              "      <td>572.500000</td>\n",
              "      <td>67.854412</td>\n",
              "    </tr>\n",
              "    <tr>\n",
              "      <th>max</th>\n",
              "      <td>5938.000000</td>\n",
              "      <td>3168.000000</td>\n",
              "      <td>235.650000</td>\n",
              "    </tr>\n",
              "  </tbody>\n",
              "</table>\n",
              "</div>"
            ],
            "text/plain": [
              "           Reviews  Number_Of_Pages       Price\n",
              "count   271.000000       271.000000  271.000000\n",
              "mean    185.557196       475.077491   54.541860\n",
              "std     552.122252       306.147492   35.711485\n",
              "min       0.000000        50.000000    9.323529\n",
              "25%       5.500000       289.000000   30.751471\n",
              "50%      35.000000       384.000000   46.317647\n",
              "75%     116.500000       572.500000   67.854412\n",
              "max    5938.000000      3168.000000  235.650000"
            ]
          },
          "metadata": {
            "tags": []
          },
          "execution_count": 18
        }
      ]
    },
    {
      "cell_type": "code",
      "metadata": {
        "colab": {
          "base_uri": "https://localhost:8080/"
        },
        "id": "b4Xs3hf7PKAR",
        "outputId": "0c688e9e-62ef-477f-f72a-dde8cdd5facf"
      },
      "source": [
        "df_livros.columns"
      ],
      "execution_count": 19,
      "outputs": [
        {
          "output_type": "execute_result",
          "data": {
            "text/plain": [
              "Index(['Reviews', 'Book_title', 'Number_Of_Pages', 'Price'], dtype='object')"
            ]
          },
          "metadata": {
            "tags": []
          },
          "execution_count": 19
        }
      ]
    },
    {
      "cell_type": "code",
      "metadata": {
        "colab": {
          "base_uri": "https://localhost:8080/",
          "height": 257
        },
        "id": "1yETpYdGNBJy",
        "outputId": "831a4b29-84ef-4f3e-89b7-31b0a4af9ab5"
      },
      "source": [
        "#loc()\r\n",
        "\r\n",
        "#filtrar livros com mais de 1000 páginas e preço >100\r\n",
        "\r\n",
        "df_livros.loc[(df_livros[\"Number_Of_Pages\"] > 1000) & (df_livros[\"Price\"] > 100)]"
      ],
      "execution_count": 49,
      "outputs": [
        {
          "output_type": "execute_result",
          "data": {
            "text/html": [
              "<div>\n",
              "<style scoped>\n",
              "    .dataframe tbody tr th:only-of-type {\n",
              "        vertical-align: middle;\n",
              "    }\n",
              "\n",
              "    .dataframe tbody tr th {\n",
              "        vertical-align: top;\n",
              "    }\n",
              "\n",
              "    .dataframe thead th {\n",
              "        text-align: right;\n",
              "    }\n",
              "</style>\n",
              "<table border=\"1\" class=\"dataframe\">\n",
              "  <thead>\n",
              "    <tr style=\"text-align: right;\">\n",
              "      <th></th>\n",
              "      <th>Reviews</th>\n",
              "      <th>Book_title</th>\n",
              "      <th>Number_Of_Pages</th>\n",
              "      <th>Price</th>\n",
              "    </tr>\n",
              "  </thead>\n",
              "  <tbody>\n",
              "    <tr>\n",
              "      <th>253</th>\n",
              "      <td>56</td>\n",
              "      <td>Modern Operating Systems, 4th Edition</td>\n",
              "      <td>1136</td>\n",
              "      <td>103.461765</td>\n",
              "    </tr>\n",
              "    <tr>\n",
              "      <th>258</th>\n",
              "      <td>16</td>\n",
              "      <td>The C++ Standard Library: A Tutorial and Refer...</td>\n",
              "      <td>1136</td>\n",
              "      <td>113.302941</td>\n",
              "    </tr>\n",
              "    <tr>\n",
              "      <th>259</th>\n",
              "      <td>130</td>\n",
              "      <td>Artificial Intelligence: A Modern Approach</td>\n",
              "      <td>1132</td>\n",
              "      <td>115.750000</td>\n",
              "    </tr>\n",
              "    <tr>\n",
              "      <th>260</th>\n",
              "      <td>1</td>\n",
              "      <td>3D Game Engine Design: A Practical Approach to...</td>\n",
              "      <td>1040</td>\n",
              "      <td>117.988235</td>\n",
              "    </tr>\n",
              "    <tr>\n",
              "      <th>265</th>\n",
              "      <td>5</td>\n",
              "      <td>Numerical Recipes: The Art of Scientific Compu...</td>\n",
              "      <td>1235</td>\n",
              "      <td>176.144118</td>\n",
              "    </tr>\n",
              "    <tr>\n",
              "      <th>267</th>\n",
              "      <td>22</td>\n",
              "      <td>An Introduction to Database Systems</td>\n",
              "      <td>1040</td>\n",
              "      <td>212.097059</td>\n",
              "    </tr>\n",
              "    <tr>\n",
              "      <th>269</th>\n",
              "      <td>4</td>\n",
              "      <td>The Art of Computer Programming, Volumes 1-4a ...</td>\n",
              "      <td>3168</td>\n",
              "      <td>220.385294</td>\n",
              "    </tr>\n",
              "  </tbody>\n",
              "</table>\n",
              "</div>"
            ],
            "text/plain": [
              "     Reviews  ...       Price\n",
              "253       56  ...  103.461765\n",
              "258       16  ...  113.302941\n",
              "259      130  ...  115.750000\n",
              "260        1  ...  117.988235\n",
              "265        5  ...  176.144118\n",
              "267       22  ...  212.097059\n",
              "269        4  ...  220.385294\n",
              "\n",
              "[7 rows x 4 columns]"
            ]
          },
          "metadata": {
            "tags": []
          },
          "execution_count": 49
        }
      ]
    },
    {
      "cell_type": "code",
      "metadata": {
        "colab": {
          "base_uri": "https://localhost:8080/"
        },
        "id": "3eoe0w7hRh_v",
        "outputId": "3f7b1fa7-10e3-43f3-d355-c36cac4a5704"
      },
      "source": [
        "#apply()\r\n",
        "\r\n",
        "#função para encontrar linhas e colunas nulas\r\n",
        "\r\n",
        "def info_faltando(x):\r\n",
        "  return sum(x.isnull())\r\n",
        "\r\n",
        "#Aplica por coluna:\r\n",
        "print(\"Valores faltando por coluna:\")\r\n",
        "print(df_livros.apply(info_faltando, axis=0)) #axis=0 define que a função deve ser aplicada em cada coluna\r\n",
        "\r\n",
        "#Aplica por linha:\r\n",
        "print(\"\\nValores faltando por linha:\")\r\n",
        "print(df_livros.apply(info_faltando, axis=1).head()) #axis=1define que a função deve ser aplicada em cada linha"
      ],
      "execution_count": 25,
      "outputs": [
        {
          "output_type": "stream",
          "text": [
            "Valores faltando por coluna:\n",
            "Reviews            0\n",
            "Book_title         0\n",
            "Number_Of_Pages    0\n",
            "Price              0\n",
            "dtype: int64\n",
            "\n",
            "Valores faltando por linha:\n",
            "0    0\n",
            "1    0\n",
            "2    0\n",
            "3    0\n",
            "4    0\n",
            "dtype: int64\n"
          ],
          "name": "stdout"
        }
      ]
    },
    {
      "cell_type": "code",
      "metadata": {
        "colab": {
          "base_uri": "https://localhost:8080/",
          "height": 265
        },
        "id": "Zo177HWlS3ae",
        "outputId": "f784f771-6107-44a0-e251-ebe3aa8139e4"
      },
      "source": [
        "#páginas\r\n",
        "\r\n",
        "freq = df_livros[\"Number_Of_Pages\"].value_counts()\r\n",
        "freq = freq.head(3)\r\n",
        "freq.plot.pie()\r\n"
      ],
      "execution_count": 31,
      "outputs": [
        {
          "output_type": "execute_result",
          "data": {
            "text/plain": [
              "<matplotlib.axes._subplots.AxesSubplot at 0x7f9b07176390>"
            ]
          },
          "metadata": {
            "tags": []
          },
          "execution_count": 31
        },
        {
          "output_type": "display_data",
          "data": {
            "image/png": "[encoded data removed]",
            "text/plain": [
              "<Figure size 432x288 with 1 Axes>"
            ]
          },
          "metadata": {
            "tags": []
          }
        }
      ]
    },
    {
      "cell_type": "code",
      "metadata": {
        "colab": {
          "base_uri": "https://localhost:8080/",
          "height": 292
        },
        "id": "WtzwO6RtU1A0",
        "outputId": "50caf7e1-4769-4314-b685-4316ea35f70c"
      },
      "source": [
        "freq.plot.bar()"
      ],
      "execution_count": 32,
      "outputs": [
        {
          "output_type": "execute_result",
          "data": {
            "text/plain": [
              "<matplotlib.axes._subplots.AxesSubplot at 0x7f9b07143b70>"
            ]
          },
          "metadata": {
            "tags": []
          },
          "execution_count": 32
        },
        {
          "output_type": "display_data",
          "data": {
            "image/png": "[encoded data removed]",
            "text/plain": [
              "<Figure size 432x288 with 1 Axes>"
            ]
          },
          "metadata": {
            "tags": [],
            "needs_background": "light"
          }
        }
      ]
    },
    {
      "cell_type": "markdown",
      "metadata": {
        "id": "fsFLixXJVwBr"
      },
      "source": [
        "**Recapitulando algumas funcionalidades:**"
      ]
    },
    {
      "cell_type": "code",
      "metadata": {
        "colab": {
          "base_uri": "https://localhost:8080/",
          "height": 197
        },
        "id": "EMlplA6cVwao",
        "outputId": "337a28c2-ec48-4619-c339-5abf7a554333"
      },
      "source": [
        "df_livros.head()\r\n"
      ],
      "execution_count": 36,
      "outputs": [
        {
          "output_type": "execute_result",
          "data": {
            "text/html": [
              "<div>\n",
              "<style scoped>\n",
              "    .dataframe tbody tr th:only-of-type {\n",
              "        vertical-align: middle;\n",
              "    }\n",
              "\n",
              "    .dataframe tbody tr th {\n",
              "        vertical-align: top;\n",
              "    }\n",
              "\n",
              "    .dataframe thead th {\n",
              "        text-align: right;\n",
              "    }\n",
              "</style>\n",
              "<table border=\"1\" class=\"dataframe\">\n",
              "  <thead>\n",
              "    <tr style=\"text-align: right;\">\n",
              "      <th></th>\n",
              "      <th>Reviews</th>\n",
              "      <th>Book_title</th>\n",
              "      <th>Number_Of_Pages</th>\n",
              "      <th>Price</th>\n",
              "    </tr>\n",
              "  </thead>\n",
              "  <tbody>\n",
              "    <tr>\n",
              "      <th>0</th>\n",
              "      <td>3829</td>\n",
              "      <td>The Elements of Style</td>\n",
              "      <td>105</td>\n",
              "      <td>9.323529</td>\n",
              "    </tr>\n",
              "    <tr>\n",
              "      <th>1</th>\n",
              "      <td>1406</td>\n",
              "      <td>The Information: A History, a Theory, a Flood</td>\n",
              "      <td>527</td>\n",
              "      <td>11.000000</td>\n",
              "    </tr>\n",
              "    <tr>\n",
              "      <th>2</th>\n",
              "      <td>0</td>\n",
              "      <td>Responsive Web Design Overview For Beginners</td>\n",
              "      <td>50</td>\n",
              "      <td>11.267647</td>\n",
              "    </tr>\n",
              "    <tr>\n",
              "      <th>3</th>\n",
              "      <td>1658</td>\n",
              "      <td>Ghost in the Wires: My Adventures as the World...</td>\n",
              "      <td>393</td>\n",
              "      <td>12.873529</td>\n",
              "    </tr>\n",
              "    <tr>\n",
              "      <th>4</th>\n",
              "      <td>1325</td>\n",
              "      <td>How Google Works</td>\n",
              "      <td>305</td>\n",
              "      <td>13.164706</td>\n",
              "    </tr>\n",
              "  </tbody>\n",
              "</table>\n",
              "</div>"
            ],
            "text/plain": [
              "   Reviews  ...      Price\n",
              "0     3829  ...   9.323529\n",
              "1     1406  ...  11.000000\n",
              "2        0  ...  11.267647\n",
              "3     1658  ...  12.873529\n",
              "4     1325  ...  13.164706\n",
              "\n",
              "[5 rows x 4 columns]"
            ]
          },
          "metadata": {
            "tags": []
          },
          "execution_count": 36
        }
      ]
    },
    {
      "cell_type": "code",
      "metadata": {
        "colab": {
          "base_uri": "https://localhost:8080/"
        },
        "id": "p65H2Iv1WII0",
        "outputId": "2f1d0575-6e85-42f5-c1ed-7a662df47a3e"
      },
      "source": [
        "df_livros.columns"
      ],
      "execution_count": 37,
      "outputs": [
        {
          "output_type": "execute_result",
          "data": {
            "text/plain": [
              "Index(['Reviews', 'Book_title', 'Number_Of_Pages', 'Price'], dtype='object')"
            ]
          },
          "metadata": {
            "tags": []
          },
          "execution_count": 37
        }
      ]
    },
    {
      "cell_type": "code",
      "metadata": {
        "colab": {
          "base_uri": "https://localhost:8080/"
        },
        "id": "oHxs6ASmWKNH",
        "outputId": "28b1f51d-9dc3-45e6-8425-3226483bde00"
      },
      "source": [
        "df_livros.count()"
      ],
      "execution_count": 38,
      "outputs": [
        {
          "output_type": "execute_result",
          "data": {
            "text/plain": [
              "Reviews            271\n",
              "Book_title         271\n",
              "Number_Of_Pages    271\n",
              "Price              271\n",
              "dtype: int64"
            ]
          },
          "metadata": {
            "tags": []
          },
          "execution_count": 38
        }
      ]
    },
    {
      "cell_type": "code",
      "metadata": {
        "colab": {
          "base_uri": "https://localhost:8080/",
          "height": 287
        },
        "id": "zXTwNmV7WYXr",
        "outputId": "94d480b5-517d-4c8d-a6ac-46aa3a4bdbdc"
      },
      "source": [
        "df_livros.describe()"
      ],
      "execution_count": 39,
      "outputs": [
        {
          "output_type": "execute_result",
          "data": {
            "text/html": [
              "<div>\n",
              "<style scoped>\n",
              "    .dataframe tbody tr th:only-of-type {\n",
              "        vertical-align: middle;\n",
              "    }\n",
              "\n",
              "    .dataframe tbody tr th {\n",
              "        vertical-align: top;\n",
              "    }\n",
              "\n",
              "    .dataframe thead th {\n",
              "        text-align: right;\n",
              "    }\n",
              "</style>\n",
              "<table border=\"1\" class=\"dataframe\">\n",
              "  <thead>\n",
              "    <tr style=\"text-align: right;\">\n",
              "      <th></th>\n",
              "      <th>Reviews</th>\n",
              "      <th>Number_Of_Pages</th>\n",
              "      <th>Price</th>\n",
              "    </tr>\n",
              "  </thead>\n",
              "  <tbody>\n",
              "    <tr>\n",
              "      <th>count</th>\n",
              "      <td>271.000000</td>\n",
              "      <td>271.000000</td>\n",
              "      <td>271.000000</td>\n",
              "    </tr>\n",
              "    <tr>\n",
              "      <th>mean</th>\n",
              "      <td>185.557196</td>\n",
              "      <td>475.077491</td>\n",
              "      <td>54.541860</td>\n",
              "    </tr>\n",
              "    <tr>\n",
              "      <th>std</th>\n",
              "      <td>552.122252</td>\n",
              "      <td>306.147492</td>\n",
              "      <td>35.711485</td>\n",
              "    </tr>\n",
              "    <tr>\n",
              "      <th>min</th>\n",
              "      <td>0.000000</td>\n",
              "      <td>50.000000</td>\n",
              "      <td>9.323529</td>\n",
              "    </tr>\n",
              "    <tr>\n",
              "      <th>25%</th>\n",
              "      <td>5.500000</td>\n",
              "      <td>289.000000</td>\n",
              "      <td>30.751471</td>\n",
              "    </tr>\n",
              "    <tr>\n",
              "      <th>50%</th>\n",
              "      <td>35.000000</td>\n",
              "      <td>384.000000</td>\n",
              "      <td>46.317647</td>\n",
              "    </tr>\n",
              "    <tr>\n",
              "      <th>75%</th>\n",
              "      <td>116.500000</td>\n",
              "      <td>572.500000</td>\n",
              "      <td>67.854412</td>\n",
              "    </tr>\n",
              "    <tr>\n",
              "      <th>max</th>\n",
              "      <td>5938.000000</td>\n",
              "      <td>3168.000000</td>\n",
              "      <td>235.650000</td>\n",
              "    </tr>\n",
              "  </tbody>\n",
              "</table>\n",
              "</div>"
            ],
            "text/plain": [
              "           Reviews  Number_Of_Pages       Price\n",
              "count   271.000000       271.000000  271.000000\n",
              "mean    185.557196       475.077491   54.541860\n",
              "std     552.122252       306.147492   35.711485\n",
              "min       0.000000        50.000000    9.323529\n",
              "25%       5.500000       289.000000   30.751471\n",
              "50%      35.000000       384.000000   46.317647\n",
              "75%     116.500000       572.500000   67.854412\n",
              "max    5938.000000      3168.000000  235.650000"
            ]
          },
          "metadata": {
            "tags": []
          },
          "execution_count": 39
        }
      ]
    },
    {
      "cell_type": "code",
      "metadata": {
        "colab": {
          "base_uri": "https://localhost:8080/"
        },
        "id": "CZRg0O1tW4CS",
        "outputId": "7fb31851-f89d-48c9-fe39-162ed4ebedde"
      },
      "source": [
        "#o método .value_counts() agrupa as linhas e conta as ocorrências do valor.\r\n",
        "\r\n",
        "pd.value_counts(df_livros[\"Price\"]).head(12)"
      ],
      "execution_count": 43,
      "outputs": [
        {
          "output_type": "execute_result",
          "data": {
            "text/plain": [
              "51.473529     5\n",
              "60.682353     4\n",
              "91.047059     3\n",
              "58.944118     2\n",
              "77.052941     2\n",
              "36.700000     2\n",
              "69.379412     2\n",
              "59.082353     2\n",
              "220.385294    2\n",
              "42.276471     2\n",
              "51.176471     2\n",
              "44.364706     2\n",
              "Name: Price, dtype: int64"
            ]
          },
          "metadata": {
            "tags": []
          },
          "execution_count": 43
        }
      ]
    },
    {
      "cell_type": "code",
      "metadata": {
        "colab": {
          "base_uri": "https://localhost:8080/",
          "height": 437
        },
        "id": "UIY-PcI8Xt55",
        "outputId": "1d504e55-3665-4f07-83b3-b692c7b359f4"
      },
      "source": [
        "df_livros.loc[(df_livros[\"Price\"] > 50) & (df_livros[\"Price\"] < 52)]\r\n",
        "\r\n",
        "#tabela abaixo é a prova que consta 5 ocorrências do preço 51.473529"
      ],
      "execution_count": 47,
      "outputs": [
        {
          "output_type": "execute_result",
          "data": {
            "text/html": [
              "<div>\n",
              "<style scoped>\n",
              "    .dataframe tbody tr th:only-of-type {\n",
              "        vertical-align: middle;\n",
              "    }\n",
              "\n",
              "    .dataframe tbody tr th {\n",
              "        vertical-align: top;\n",
              "    }\n",
              "\n",
              "    .dataframe thead th {\n",
              "        text-align: right;\n",
              "    }\n",
              "</style>\n",
              "<table border=\"1\" class=\"dataframe\">\n",
              "  <thead>\n",
              "    <tr style=\"text-align: right;\">\n",
              "      <th></th>\n",
              "      <th>Reviews</th>\n",
              "      <th>Book_title</th>\n",
              "      <th>Number_Of_Pages</th>\n",
              "      <th>Price</th>\n",
              "    </tr>\n",
              "  </thead>\n",
              "  <tbody>\n",
              "    <tr>\n",
              "      <th>146</th>\n",
              "      <td>171</td>\n",
              "      <td>Practical Object Oriented Design in Ruby</td>\n",
              "      <td>247</td>\n",
              "      <td>50.094118</td>\n",
              "    </tr>\n",
              "    <tr>\n",
              "      <th>147</th>\n",
              "      <td>4</td>\n",
              "      <td>The Boost C++ Libraries</td>\n",
              "      <td>570</td>\n",
              "      <td>50.511765</td>\n",
              "    </tr>\n",
              "    <tr>\n",
              "      <th>148</th>\n",
              "      <td>0</td>\n",
              "      <td>Building an FPS Game with Unity</td>\n",
              "      <td>326</td>\n",
              "      <td>50.726471</td>\n",
              "    </tr>\n",
              "    <tr>\n",
              "      <th>149</th>\n",
              "      <td>1</td>\n",
              "      <td>The It Handbook for Business: Managing Informa...</td>\n",
              "      <td>180</td>\n",
              "      <td>51.176471</td>\n",
              "    </tr>\n",
              "    <tr>\n",
              "      <th>150</th>\n",
              "      <td>27</td>\n",
              "      <td>DIV, Grad, Curl, and All That: An Informal Tex...</td>\n",
              "      <td>176</td>\n",
              "      <td>51.176471</td>\n",
              "    </tr>\n",
              "    <tr>\n",
              "      <th>151</th>\n",
              "      <td>1</td>\n",
              "      <td>Design and Validation of Computer Protocols</td>\n",
              "      <td>512</td>\n",
              "      <td>51.361765</td>\n",
              "    </tr>\n",
              "    <tr>\n",
              "      <th>152</th>\n",
              "      <td>52</td>\n",
              "      <td>The Psychology of Computer Programming</td>\n",
              "      <td>292</td>\n",
              "      <td>51.432353</td>\n",
              "    </tr>\n",
              "    <tr>\n",
              "      <th>153</th>\n",
              "      <td>63</td>\n",
              "      <td>Make Your Own Neural Network</td>\n",
              "      <td>252</td>\n",
              "      <td>51.464706</td>\n",
              "    </tr>\n",
              "    <tr>\n",
              "      <th>154</th>\n",
              "      <td>35</td>\n",
              "      <td>Accelerated C++: Practical Programming by Example</td>\n",
              "      <td>352</td>\n",
              "      <td>51.473529</td>\n",
              "    </tr>\n",
              "    <tr>\n",
              "      <th>155</th>\n",
              "      <td>11</td>\n",
              "      <td>The Rails Way</td>\n",
              "      <td>851</td>\n",
              "      <td>51.473529</td>\n",
              "    </tr>\n",
              "    <tr>\n",
              "      <th>156</th>\n",
              "      <td>50</td>\n",
              "      <td>The Joy of Clojure</td>\n",
              "      <td>328</td>\n",
              "      <td>51.473529</td>\n",
              "    </tr>\n",
              "    <tr>\n",
              "      <th>157</th>\n",
              "      <td>2</td>\n",
              "      <td>More Exceptional C++: 40 New Engineering Puzzl...</td>\n",
              "      <td>304</td>\n",
              "      <td>51.473529</td>\n",
              "    </tr>\n",
              "    <tr>\n",
              "      <th>158</th>\n",
              "      <td>6</td>\n",
              "      <td>Exceptional C++ Style: 40 New Engineering Puzz...</td>\n",
              "      <td>325</td>\n",
              "      <td>51.473529</td>\n",
              "    </tr>\n",
              "  </tbody>\n",
              "</table>\n",
              "</div>"
            ],
            "text/plain": [
              "     Reviews  ...      Price\n",
              "146      171  ...  50.094118\n",
              "147        4  ...  50.511765\n",
              "148        0  ...  50.726471\n",
              "149        1  ...  51.176471\n",
              "150       27  ...  51.176471\n",
              "151        1  ...  51.361765\n",
              "152       52  ...  51.432353\n",
              "153       63  ...  51.464706\n",
              "154       35  ...  51.473529\n",
              "155       11  ...  51.473529\n",
              "156       50  ...  51.473529\n",
              "157        2  ...  51.473529\n",
              "158        6  ...  51.473529\n",
              "\n",
              "[13 rows x 4 columns]"
            ]
          },
          "metadata": {
            "tags": []
          },
          "execution_count": 47
        }
      ]
    },
    {
      "cell_type": "code",
      "metadata": {
        "id": "9qAYBycfYsYl"
      },
      "source": [
        "#parte 1 =ok"
      ],
      "execution_count": null,
      "outputs": []
    }
  ]
}